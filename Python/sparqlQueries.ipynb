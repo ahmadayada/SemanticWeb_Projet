{
 "cells": [
  {
   "cell_type": "code",
   "execution_count": 19,
   "id": "7501f217",
   "metadata": {},
   "outputs": [],
   "source": [
    "from SPARQLWrapper import SPARQLWrapper, CSV\n",
    "from string import Template\n",
    "from io import StringIO\n",
    "import pandas as pd\n",
    "sparqlEndpont=SPARQLWrapper(\"http://localhost:3030/myds/sparql\")"
   ]
  },
  {
   "cell_type": "code",
   "execution_count": 21,
   "id": "9c0cdf1b",
   "metadata": {},
   "outputs": [
    {
     "name": "stdout",
     "output_type": "stream",
     "text": [
      "b'room,insideTemp\\r\\nhttp://www.w3.org/ns/sosa/Observation_1001_TEMP_S424,23.8\\r\\nhttp://www.w3.org/ns/sosa/Observation_1002_TEMP_S424,23.8\\r\\nhttp://www.w3.org/ns/sosa/Observation_1029_TEMP_S421,23.06\\r\\nhttp://www.w3.org/ns/sosa/Observation_1030_TEMP_S421,23.06\\r\\nhttp://www.w3.org/ns/sosa/Observation_1033_TEMP_S422,26.3\\r\\nhttp://www.w3.org/ns/sosa/Observation_1034_TEMP_S422,26.3\\r\\nhttp://www.w3.org/ns/sosa/Observation_1039_TEMP_S425,20.4\\r\\nhttp://www.w3.org/ns/sosa/Observation_1040_TEMP_S425,20.4\\r\\nhttp://www.w3.org/ns/sosa/Observation_1045_TEMP_S431F,22.2\\r\\nhttp://www.w3.org/ns/sosa/Observation_1046_TEMP_S431F,22.2\\r\\n'\n",
      "                                                room  insideTemp\n",
      "0  http://www.w3.org/ns/sosa/Observation_1001_TEM...       23.80\n",
      "1  http://www.w3.org/ns/sosa/Observation_1002_TEM...       23.80\n",
      "2  http://www.w3.org/ns/sosa/Observation_1029_TEM...       23.06\n",
      "3  http://www.w3.org/ns/sosa/Observation_1030_TEM...       23.06\n",
      "4  http://www.w3.org/ns/sosa/Observation_1033_TEM...       26.30\n",
      "5  http://www.w3.org/ns/sosa/Observation_1034_TEM...       26.30\n",
      "6  http://www.w3.org/ns/sosa/Observation_1039_TEM...       20.40\n",
      "7  http://www.w3.org/ns/sosa/Observation_1040_TEM...       20.40\n",
      "8  http://www.w3.org/ns/sosa/Observation_1045_TEM...       22.20\n",
      "9  http://www.w3.org/ns/sosa/Observation_1046_TEM...       22.20\n"
     ]
    }
   ],
   "source": [
    "#printing all rooms where inside temperature is higher than 20 degrees\n",
    "_query = Template(\n",
    "                \"\"\"\n",
    "PREFIX so: <http://purl.org/ontology/symbolic-music/>\n",
    "PREFIX sosa: <http://www.w3.org/ns/sosa/>\n",
    "PREFIX ns1: <http://schema.org/>\n",
    "PREFIX xsd: <http://www.w3.org/2001/XMLSchema#>\n",
    "\n",
    "select ?room  ?insideTemp where {\n",
    "?room sosa:hasResult ?insideTemp;\n",
    "sosa:observes \"temperature\".\n",
    "\n",
    "  filter (xsd:float(?insideTemp) > $t1)\n",
    "}\n",
    "limit 10\n",
    "\"\"\"\n",
    "                \n",
    "                )\n",
    "\n",
    "sparqlEndpont.setQuery(_query.substitute(t1=20))\n",
    "sparqlEndpont.setReturnFormat(CSV)\n",
    "_results = sparqlEndpont.query().convert()\n",
    "\n",
    "print(_results)\n",
    "\n",
    "_bData = StringIO(_results.decode(\"utf-8\"))\n",
    "\n",
    "df = pd.read_csv(_bData, sep=\",\")\n",
    "#if not df.empty :\n",
    " #   df.tocsv(\"./ResultClassification/{}/day{}from{}to{}outsideTemp{}_{}.csv\".format(path,day,d1,d2,temp, meteoType))\n",
    "\n",
    "print(df)"
   ]
  },
  {
   "cell_type": "code",
   "execution_count": 35,
   "id": "cde771ef",
   "metadata": {},
   "outputs": [
    {
     "ename": "NameError",
     "evalue": "name 'datetime' is not defined",
     "output_type": "error",
     "traceback": [
      "\u001b[1;31m---------------------------------------------------------------------------\u001b[0m",
      "\u001b[1;31mNameError\u001b[0m                                 Traceback (most recent call last)",
      "\u001b[1;32m~\\AppData\\Local\\Temp/ipykernel_19548/591084076.py\u001b[0m in \u001b[0;36m<module>\u001b[1;34m\u001b[0m\n\u001b[0;32m     23\u001b[0m     \"\"\"     \n\u001b[0;32m     24\u001b[0m                 ) #xsd:float(?result) >= $v1\n\u001b[1;32m---> 25\u001b[1;33m \u001b[0m_d1\u001b[0m\u001b[1;33m=\u001b[0m\u001b[0mdatetime\u001b[0m\u001b[1;33m(\u001b[0m\u001b[0myear\u001b[0m\u001b[1;33m=\u001b[0m\u001b[1;36m2021\u001b[0m\u001b[1;33m,\u001b[0m \u001b[0mmonth\u001b[0m\u001b[1;33m=\u001b[0m\u001b[1;36m11\u001b[0m\u001b[1;33m,\u001b[0m \u001b[0mday\u001b[0m\u001b[1;33m=\u001b[0m\u001b[0mday\u001b[0m\u001b[1;33m,\u001b[0m \u001b[0mhour\u001b[0m\u001b[1;33m=\u001b[0m\u001b[0m_hour\u001b[0m\u001b[1;33m)\u001b[0m\u001b[1;33m.\u001b[0m\u001b[0mstrftime\u001b[0m\u001b[1;33m(\u001b[0m\u001b[1;34m\"%Y-%m-%dT%H:%M:%S\"\u001b[0m\u001b[1;33m)\u001b[0m\u001b[1;33m\u001b[0m\u001b[1;33m\u001b[0m\u001b[0m\n\u001b[0m\u001b[0;32m     26\u001b[0m \u001b[1;33m\u001b[0m\u001b[0m\n\u001b[0;32m     27\u001b[0m \u001b[0m_d2\u001b[0m\u001b[1;33m=\u001b[0m\u001b[0mdatetime\u001b[0m\u001b[1;33m(\u001b[0m\u001b[0myear\u001b[0m\u001b[1;33m=\u001b[0m\u001b[1;36m2021\u001b[0m\u001b[1;33m,\u001b[0m \u001b[0mmonth\u001b[0m\u001b[1;33m=\u001b[0m\u001b[1;36m11\u001b[0m\u001b[1;33m,\u001b[0m \u001b[0mday\u001b[0m\u001b[1;33m=\u001b[0m\u001b[0mday\u001b[0m\u001b[1;33m,\u001b[0m \u001b[0mhour\u001b[0m\u001b[1;33m=\u001b[0m\u001b[0m_hour\u001b[0m\u001b[1;33m,\u001b[0m\u001b[0mminute\u001b[0m\u001b[1;33m=\u001b[0m\u001b[1;36m59\u001b[0m\u001b[1;33m,\u001b[0m \u001b[0msecond\u001b[0m\u001b[1;33m=\u001b[0m\u001b[1;36m59\u001b[0m\u001b[1;33m)\u001b[0m\u001b[1;33m.\u001b[0m\u001b[0mstrftime\u001b[0m\u001b[1;33m(\u001b[0m\u001b[1;34m\"%Y-%m-%dT%H:%M:%S\"\u001b[0m\u001b[1;33m)\u001b[0m\u001b[1;33m\u001b[0m\u001b[1;33m\u001b[0m\u001b[0m\n",
      "\u001b[1;31mNameError\u001b[0m: name 'datetime' is not defined"
     ]
    }
   ],
   "source": [
    "def measure_classification(day, hour) : #select inside and outside temps in a room at a\n",
    "    #particular day, and hour\n",
    "    _query = Template(\n",
    "                \"\"\"\n",
    "PREFIX so: <http://purl.org/ontology/symbolic-music/>\n",
    "PREFIX sosa: <http://www.w3.org/ns/sosa/>\n",
    "PREFIX ns1: <http://schema.org/>\n",
    "PREFIX xsd: <http://www.w3.org/2001/XMLSchema#>\n",
    "\n",
    "select ?room ?room2 ?insideTemp  ?outsideTemp ?datetime where {\n",
    "  ?room sosa:observes \"temperature\"; #to select rooms with temperature sensors\n",
    "  sosa:hasResult ?insideTemp. #to select inside temperature\n",
    "   ?room2 ns1:time ?hour;\n",
    "           ns1:outsideTemp ?outsideTemp.\n",
    "   \n",
    "\n",
    "   \n",
    "FILTER (\n",
    "xsd:float(?insideTemp) == $_temp \n",
    "   && (?datetime > \"$d1\"^^xsd:dateTime && ?datetime < \"$d2\"^^xsd:dateTime))\n",
    "        \n",
    "} limit 10\n",
    "    \"\"\"     \n",
    "                ) #xsd:float(?result) >= $v1\n",
    "_d1=datetime(year=2021, month=11, day=day, hour=_hour).strftime(\"%Y-%m-%dT%H:%M:%S\")\n",
    "\n",
    "_d2=datetime(year=2021, month=11, day=day, hour=_hour,minute=59, second=59).strftime(\"%Y-%m-%dT%H:%M:%S\")   \n",
    "   \n",
    "    \n",
    "sparqlEndpont.setQuery(_query.substitute(d1=_d1,d2=_d2, _temp=6.9))\n",
    "sparqlEndpont.setReturnFormat(CSV)\n",
    "_results = sparqlEndpont.query().convert()\n",
    "\n",
    "print(_results)\n",
    "\n",
    "_bData = StringIO(_results.decode(\"utf-8\"))\n",
    "\n",
    "df = pd.read_csv(_bData, sep=\",\")\n",
    "#if not df.empty :\n",
    " #   df.tocsv(\"./ResultClassification/{}/day{}from{}to{}outsideTemp{}_{}.csv\".format(path,day,d1,d2,temp, meteoType))\n",
    "\n",
    "print(df)\n",
    "    \n",
    " \n"
   ]
  },
  {
   "cell_type": "code",
   "execution_count": 30,
   "id": "48a86a47",
   "metadata": {},
   "outputs": [
    {
     "name": "stdout",
     "output_type": "stream",
     "text": [
      "b'room,room2,insideTemp,outsideTemp\\r\\n'\n",
      "Empty DataFrame\n",
      "Columns: [room, room2, insideTemp, outsideTemp]\n",
      "Index: []\n"
     ]
    }
   ],
   "source": [
    " #measure_classification(16-11-2021, 16) "
   ]
  },
  {
   "cell_type": "code",
   "execution_count": null,
   "id": "0524bb58",
   "metadata": {},
   "outputs": [],
   "source": [
    "    if abs(outsideTemp - InsideTemp) > 30 :\n",
    "        print(\"alarming ! \")\n",
    "    elif abs(outsideTemp - InsideTemp) > 15 :\n",
    "        print(\"normal\")\n",
    "    else : \n",
    "        print(\"of interest\")"
   ]
  },
  {
   "cell_type": "code",
   "execution_count": 22,
   "id": "f7df5f64",
   "metadata": {},
   "outputs": [
    {
     "ename": "IndentationError",
     "evalue": "unexpected indent (Temp/ipykernel_19548/1894651782.py, line 21)",
     "output_type": "error",
     "traceback": [
      "\u001b[1;36m  File \u001b[1;32m\"C:\\Users\\ibtis\\AppData\\Local\\Temp/ipykernel_19548/1894651782.py\"\u001b[1;36m, line \u001b[1;32m21\u001b[0m\n\u001b[1;33m    sparqlEndpont.setQuery(_query.substitute(_day=day, _hour=hour, d1=hour))\u001b[0m\n\u001b[1;37m    ^\u001b[0m\n\u001b[1;31mIndentationError\u001b[0m\u001b[1;31m:\u001b[0m unexpected indent\n"
     ]
    }
   ],
   "source": [
    "from datetime import datetime\n",
    "_query = Template(\n",
    "                \"\"\"\n",
    "PREFIX so: <http://purl.org/ontology/symbolic-music/>\n",
    "PREFIX sosa: <http://www.w3.org/ns/sosa/>\n",
    "PREFIX ns1: <http://schema.org/>\n",
    "PREFIX xsd: <http://www.w3.org/2001/XMLSchema#>\n",
    "\n",
    "select ?room ?insideTemp  ?outsideTemp where {\n",
    "  ?room sosa:observes \"temperature\"; #to select rooms with temperature sensors\n",
    "  sosa:hasResult ?insideTemp. #to select inside temperature\n",
    "   #?room ns1:time $_hour.\n",
    "   ?datetime > \"$d1\"^^xsd:dateTime\n",
    "   filter (xsd:dateTime(?hour) = $_hour).\n",
    "   filter (xsd:dateTime(?day) = $_day).\n",
    "}\n",
    "    \"\"\"\n",
    "            #datetime(year=2021, month=11, day=day, hour=_hour).strftime(\"%Y-%m-%dT%H:%M:%S\")    \n",
    "                )\n",
    "#\n",
    "    sparqlEndpont.setQuery(_query.substitute(_day=day, _hour=hour, d1=hour))\n",
    "    sparqlEndpont.setReturnFormat(CSV)\n",
    "    _results = sparqlEndpont.query().convert()\n",
    "\n",
    "    print(_results)\n",
    "\n",
    "    _bData = StringIO(_results.decode(\"utf-8\"))\n",
    "\n",
    "    df = pd.read_csv(_bData, sep=\",\")\n",
    "#if not df.empty :\n",
    " #   df.tocsv(\"./ResultClassification/{}/day{}from{}to{}outsideTemp{}_{}.csv\".format(path,day,d1,d2,temp, meteoType))\n",
    "\n",
    "    print(df)"
   ]
  },
  {
   "cell_type": "code",
   "execution_count": null,
   "id": "af8d40ce",
   "metadata": {},
   "outputs": [],
   "source": [
    "FILTER (\n",
    " xsd:float(?result) >= $v1  && (?datetime > \"$d1\"^^xsd:dateTime && ?datetime < \"$d2\"^^xsd:dateTime))\n",
    "            )"
   ]
  }
 ],
 "metadata": {
  "kernelspec": {
   "display_name": "Python 3 (ipykernel)",
   "language": "python",
   "name": "python3"
  },
  "language_info": {
   "codemirror_mode": {
    "name": "ipython",
    "version": 3
   },
   "file_extension": ".py",
   "mimetype": "text/x-python",
   "name": "python",
   "nbconvert_exporter": "python",
   "pygments_lexer": "ipython3",
   "version": "3.10.1"
  }
 },
 "nbformat": 4,
 "nbformat_minor": 5
}
